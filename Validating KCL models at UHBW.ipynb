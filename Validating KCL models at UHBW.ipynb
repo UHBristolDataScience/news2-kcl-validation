{
 "cells": [
  {
   "cell_type": "markdown",
   "metadata": {},
   "source": [
    "### Validating the KCL models from  https://github.com/ewancarr/NEWS2-COVID-19\n",
    "\n",
    "Changes made:\n",
    "* I changed the name of the datafile to from simulated.csv to Dataset_nonPID.csv to use our local data. \n",
    "* The model NEWS2 + DBP requires GCS scores, but these are not recorded for our ward patients. For now I have set these all to 15, which will affect performance for that model.  \n",
    "\n",
    "#### The following command runs the script 'replicate.py'"
   ]
  },
  {
   "cell_type": "code",
   "execution_count": 2,
   "metadata": {},
   "outputs": [
    {
     "name": "stdout",
     "output_type": "stream",
     "text": [
      "0.0    158\n",
      "1.0     32\n",
      "Name: news2_bin, dtype: int64\n",
      "0.0    155\n",
      "1.0     35\n",
      "Name: crp_bin, dtype: int64\n",
      "0.0    159\n",
      "1.0     31\n",
      "Name: neutrophils_bin, dtype: int64\n",
      "0.0    161\n",
      "1.0     29\n",
      "Name: estimatedgfr_bin, dtype: int64\n",
      "1.0    119\n",
      "0.0     71\n",
      "Name: albumin_bin, dtype: int64\n",
      "        roc  n_samp  n_feat  tp   tn  fp  fn      sens      spec       ppv  \\\n",
      "0  0.631596     190       1   8  119  15  48  0.142857  0.888060  0.347826   \n",
      "1  0.665778     190      23  21  114  20  35  0.375000  0.850746  0.512195   \n",
      "2  0.662580     190       6  20  112  22  36  0.357143  0.835821  0.476190   \n",
      "3  0.658316     190       6  32   94  40  24  0.571429  0.701493  0.444444   \n",
      "\n",
      "        npv        model  \n",
      "0  0.712575        NEWS2  \n",
      "1  0.765101  NEWS2 + DBP  \n",
      "2  0.756757        FINAL  \n",
      "3  0.796610    THRESHOLD  \n"
     ]
    },
    {
     "name": "stderr",
     "output_type": "stream",
     "text": [
      "replicate.py:153: SettingWithCopyWarning: \n",
      "A value is trying to be set on a copy of a slice from a DataFrame.\n",
      "Try using .loc[row_indexer,col_indexer] = value instead\n",
      "\n",
      "See the caveats in the documentation: https://pandas.pydata.org/pandas-docs/stable/user_guide/indexing.html#returning-a-view-versus-a-copy\n",
      "  X[f + '_bin'] =  np.select(v['conditions'], v['choices'])\n"
     ]
    }
   ],
   "source": [
    "%run -i replicate"
   ]
  },
  {
   "cell_type": "markdown",
   "metadata": {},
   "source": [
    "#### Summary results in clearer format:"
   ]
  },
  {
   "cell_type": "code",
   "execution_count": 6,
   "metadata": {},
   "outputs": [
    {
     "data": {
      "text/html": [
       "<div>\n",
       "<style scoped>\n",
       "    .dataframe tbody tr th:only-of-type {\n",
       "        vertical-align: middle;\n",
       "    }\n",
       "\n",
       "    .dataframe tbody tr th {\n",
       "        vertical-align: top;\n",
       "    }\n",
       "\n",
       "    .dataframe thead th {\n",
       "        text-align: right;\n",
       "    }\n",
       "</style>\n",
       "<table border=\"1\" class=\"dataframe\">\n",
       "  <thead>\n",
       "    <tr style=\"text-align: right;\">\n",
       "      <th></th>\n",
       "      <th>auc</th>\n",
       "      <th>n_samp</th>\n",
       "      <th>n_feat</th>\n",
       "      <th>tp</th>\n",
       "      <th>tn</th>\n",
       "      <th>fp</th>\n",
       "      <th>fn</th>\n",
       "      <th>sens</th>\n",
       "      <th>spec</th>\n",
       "      <th>ppv</th>\n",
       "      <th>npv</th>\n",
       "      <th>model</th>\n",
       "    </tr>\n",
       "  </thead>\n",
       "  <tbody>\n",
       "    <tr>\n",
       "      <th>0</th>\n",
       "      <td>0.631596</td>\n",
       "      <td>190</td>\n",
       "      <td>1</td>\n",
       "      <td>8</td>\n",
       "      <td>119</td>\n",
       "      <td>15</td>\n",
       "      <td>48</td>\n",
       "      <td>0.142857</td>\n",
       "      <td>0.888060</td>\n",
       "      <td>0.347826</td>\n",
       "      <td>0.712575</td>\n",
       "      <td>NEWS2</td>\n",
       "    </tr>\n",
       "    <tr>\n",
       "      <th>1</th>\n",
       "      <td>0.665778</td>\n",
       "      <td>190</td>\n",
       "      <td>23</td>\n",
       "      <td>21</td>\n",
       "      <td>114</td>\n",
       "      <td>20</td>\n",
       "      <td>35</td>\n",
       "      <td>0.375000</td>\n",
       "      <td>0.850746</td>\n",
       "      <td>0.512195</td>\n",
       "      <td>0.765101</td>\n",
       "      <td>NEWS2 + DBP</td>\n",
       "    </tr>\n",
       "    <tr>\n",
       "      <th>2</th>\n",
       "      <td>0.662580</td>\n",
       "      <td>190</td>\n",
       "      <td>6</td>\n",
       "      <td>20</td>\n",
       "      <td>112</td>\n",
       "      <td>22</td>\n",
       "      <td>36</td>\n",
       "      <td>0.357143</td>\n",
       "      <td>0.835821</td>\n",
       "      <td>0.476190</td>\n",
       "      <td>0.756757</td>\n",
       "      <td>FINAL</td>\n",
       "    </tr>\n",
       "    <tr>\n",
       "      <th>3</th>\n",
       "      <td>0.658316</td>\n",
       "      <td>190</td>\n",
       "      <td>6</td>\n",
       "      <td>32</td>\n",
       "      <td>94</td>\n",
       "      <td>40</td>\n",
       "      <td>24</td>\n",
       "      <td>0.571429</td>\n",
       "      <td>0.701493</td>\n",
       "      <td>0.444444</td>\n",
       "      <td>0.796610</td>\n",
       "      <td>THRESHOLD</td>\n",
       "    </tr>\n",
       "  </tbody>\n",
       "</table>\n",
       "</div>"
      ],
      "text/plain": [
       "        auc  n_samp  n_feat  tp   tn  fp  fn      sens      spec       ppv  \\\n",
       "0  0.631596     190       1   8  119  15  48  0.142857  0.888060  0.347826   \n",
       "1  0.665778     190      23  21  114  20  35  0.375000  0.850746  0.512195   \n",
       "2  0.662580     190       6  20  112  22  36  0.357143  0.835821  0.476190   \n",
       "3  0.658316     190       6  32   94  40  24  0.571429  0.701493  0.444444   \n",
       "\n",
       "        npv        model  \n",
       "0  0.712575        NEWS2  \n",
       "1  0.765101  NEWS2 + DBP  \n",
       "2  0.756757        FINAL  \n",
       "3  0.796610    THRESHOLD  "
      ]
     },
     "execution_count": 6,
     "metadata": {},
     "output_type": "execute_result"
    }
   ],
   "source": [
    "fit_summary.rename(columns={'roc':'auc'}, inplace=True)\n",
    "fit_summary"
   ]
  },
  {
   "cell_type": "markdown",
   "metadata": {},
   "source": [
    "#### For reference, the AUC values for the internal validation at KCL were:\n",
    "\n",
    "NEWS2 : 0.628 \n",
    "\n",
    "NEWS2 + DBP : 0.742\n",
    "\n",
    "So NEWS2 performs slightly better at UHBW (but within 2SD).\n",
    "\n",
    "The performance gain above NEWS2 is less. On first inspection this doesn't seem to be just down to the missing GCS values. "
   ]
  },
  {
   "cell_type": "code",
   "execution_count": null,
   "metadata": {},
   "outputs": [],
   "source": []
  }
 ],
 "metadata": {
  "kernelspec": {
   "display_name": "Python 3",
   "language": "python",
   "name": "python3"
  },
  "language_info": {
   "codemirror_mode": {
    "name": "ipython",
    "version": 3
   },
   "file_extension": ".py",
   "mimetype": "text/x-python",
   "name": "python",
   "nbconvert_exporter": "python",
   "pygments_lexer": "ipython3",
   "version": "3.7.1"
  }
 },
 "nbformat": 4,
 "nbformat_minor": 2
}
